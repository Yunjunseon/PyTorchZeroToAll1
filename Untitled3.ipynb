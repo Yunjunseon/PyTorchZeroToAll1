{
  "nbformat": 4,
  "nbformat_minor": 0,
  "metadata": {
    "colab": {
      "name": "Untitled3.ipynb",
      "provenance": [],
      "authorship_tag": "ABX9TyPGY5O/uVtzWopLc9ynPiVR",
      "include_colab_link": true
    },
    "kernelspec": {
      "name": "python3",
      "display_name": "Python 3"
    },
    "language_info": {
      "name": "python"
    }
  },
  "cells": [
    {
      "cell_type": "markdown",
      "metadata": {
        "id": "view-in-github",
        "colab_type": "text"
      },
      "source": [
        "<a href=\"https://colab.research.google.com/github/Yunjunseon/PyTorchZeroToAll1/blob/main/Untitled3.ipynb\" target=\"_parent\"><img src=\"https://colab.research.google.com/assets/colab-badge.svg\" alt=\"Open In Colab\"/></a>"
      ]
    },
    {
      "cell_type": "code",
      "metadata": {
        "id": "_ryHX216cNcJ",
        "colab": {
          "base_uri": "https://localhost:8080/",
          "height": 251
        },
        "outputId": "cad34a3b-36f1-4f1e-e4be-2ed51cf0736f"
      },
      "source": [
        "# Torch를 사용\n",
        "import torch\n",
        "from torch.autograd import Variable\n",
        "\n",
        "x_data = [1.0,2.0,3.0]\n",
        "y_data = [2.0,4.0,6.0]\n",
        "\n",
        "w = Variable(torch,Tensor([1.0]),requires_grad = True)    # requires_grad = True 를 해야 값을 계속해서 업데이트 할 수 있다\n",
        "\n",
        "x = Variable(torch.randn(1, 10))\n",
        "prev_h = Variable(torch,randn(1, 20))\n",
        "W_h = Variable(torch.randn(20, 20))\n",
        "W_x = Variable(torch.randn(20, 10))\n",
        "\n",
        "i2g = torch.mm(W_x, x.t())\n",
        "h2h = torch.mm(W_h,prev_h.t())\n",
        "next_h = i2h+h2h\n",
        "next_h = next_h.tanh()\n",
        "\n",
        "next_h.backward(torch.ones(1,20))\n",
        "\n",
        "def forward(x):\n",
        "  return x*w\n",
        "\n",
        "def loss(x,y):\n",
        "  y_pred = forward(x)\n",
        "  return (y_pred-y)**2\n",
        "\n",
        "print( \" predict(before training)\", 4, forward(4).data[0])\n",
        "\n",
        "\n",
        "for epoch in range(10):\n",
        "  for x_val,y_val in zip(x_data,y_data):\n",
        "    l = loss(x_val,y_val)\n",
        "    l.backword()\n",
        "    print(\"\\tgrad: \", x_val,y_val,w.grad.data[0])\n",
        "    w.data =w.data - 0.01 * w.grad.data\n",
        "\n",
        "    w.grad.data.zero_()\n",
        "  print(\"progress:\",epoch, l.data[0])\n",
        "\n",
        "  print(\"predict(after training) \", 4, forward(4).data[0])"
      ],
      "execution_count": 3,
      "outputs": [
        {
          "output_type": "error",
          "ename": "NameError",
          "evalue": "ignored",
          "traceback": [
            "\u001b[0;31m---------------------------------------------------------------------------\u001b[0m",
            "\u001b[0;31mNameError\u001b[0m                                 Traceback (most recent call last)",
            "\u001b[0;32m<ipython-input-3-583732ce6426>\u001b[0m in \u001b[0;36m<module>\u001b[0;34m()\u001b[0m\n\u001b[1;32m      6\u001b[0m \u001b[0my_data\u001b[0m \u001b[0;34m=\u001b[0m \u001b[0;34m[\u001b[0m\u001b[0;36m2.0\u001b[0m\u001b[0;34m,\u001b[0m\u001b[0;36m4.0\u001b[0m\u001b[0;34m,\u001b[0m\u001b[0;36m6.0\u001b[0m\u001b[0;34m]\u001b[0m\u001b[0;34m\u001b[0m\u001b[0;34m\u001b[0m\u001b[0m\n\u001b[1;32m      7\u001b[0m \u001b[0;34m\u001b[0m\u001b[0m\n\u001b[0;32m----> 8\u001b[0;31m \u001b[0mw\u001b[0m \u001b[0;34m=\u001b[0m \u001b[0mVariable\u001b[0m\u001b[0;34m(\u001b[0m\u001b[0mtorch\u001b[0m\u001b[0;34m,\u001b[0m\u001b[0mTensor\u001b[0m\u001b[0;34m(\u001b[0m\u001b[0;34m[\u001b[0m\u001b[0;36m1.0\u001b[0m\u001b[0;34m]\u001b[0m\u001b[0;34m)\u001b[0m\u001b[0;34m,\u001b[0m \u001b[0mrequires_grad\u001b[0m \u001b[0;34m=\u001b[0m \u001b[0;32mTrue\u001b[0m\u001b[0;34m)\u001b[0m    \u001b[0;31m# requires_grad = True 를 해야 값을 계속해서 업데이트 할 수 있다\u001b[0m\u001b[0;34m\u001b[0m\u001b[0;34m\u001b[0m\u001b[0m\n\u001b[0m\u001b[1;32m      9\u001b[0m \u001b[0;34m\u001b[0m\u001b[0m\n\u001b[1;32m     10\u001b[0m \u001b[0mx\u001b[0m \u001b[0;34m=\u001b[0m \u001b[0mVariable\u001b[0m\u001b[0;34m(\u001b[0m\u001b[0mtorch\u001b[0m\u001b[0;34m.\u001b[0m\u001b[0mrandn\u001b[0m\u001b[0;34m(\u001b[0m\u001b[0;36m1\u001b[0m\u001b[0;34m,\u001b[0m \u001b[0;36m10\u001b[0m\u001b[0;34m)\u001b[0m\u001b[0;34m)\u001b[0m\u001b[0;34m\u001b[0m\u001b[0;34m\u001b[0m\u001b[0m\n",
            "\u001b[0;31mNameError\u001b[0m: name 'Tensor' is not defined"
          ]
        }
      ]
    }
  ]
}